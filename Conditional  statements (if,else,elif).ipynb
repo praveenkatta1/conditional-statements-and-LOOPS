{
 "cells": [
  {
   "cell_type": "code",
   "execution_count": 1,
   "id": "ddce1bad-1c38-4757-afce-a35c4fa2db86",
   "metadata": {},
   "outputs": [
    {
     "name": "stdout",
     "output_type": "stream",
     "text": [
      "Data Science\n"
     ]
    }
   ],
   "source": [
    "if True:\n",
    "    print('Data Science')    "
   ]
  },
  {
   "cell_type": "code",
   "execution_count": 2,
   "id": "ed81e476-e90e-4ccc-987f-7ce675b9704a",
   "metadata": {},
   "outputs": [
    {
     "name": "stdout",
     "output_type": "stream",
     "text": [
      "Hello\n"
     ]
    }
   ],
   "source": [
    "if False:\n",
    "    print('Data Science')\n",
    "print('Hello')    "
   ]
  },
  {
   "cell_type": "code",
   "execution_count": 3,
   "id": "8a6eed8b-83c6-4729-903f-4db1cd2c4494",
   "metadata": {},
   "outputs": [
    {
     "name": "stdout",
     "output_type": "stream",
     "text": [
      "Data Science\n",
      "Hello\n"
     ]
    }
   ],
   "source": [
    "if True:\n",
    "    print('Data Science')\n",
    "print('Hello')"
   ]
  },
  {
   "cell_type": "code",
   "execution_count": 4,
   "id": "7b248601-6538-4253-9c4b-89cb1699a0ec",
   "metadata": {},
   "outputs": [
    {
     "name": "stdout",
     "output_type": "stream",
     "text": [
      "Hello\n"
     ]
    }
   ],
   "source": [
    "if False: \n",
    "    print('Data Science')\n",
    "else:\n",
    "    print('Hello')"
   ]
  },
  {
   "cell_type": "markdown",
   "id": "b54085d1-4e34-49d4-90cf-66c9766671fc",
   "metadata": {},
   "source": [
    "###  Lets do one program as if divide by 2 then reminder is 0 then it is even number \n",
    "if reminder is not 0 then it is odd number"
   ]
  },
  {
   "cell_type": "code",
   "execution_count": 6,
   "id": "7c04aafc-5f2f-4be8-90f1-c325d1f3f4aa",
   "metadata": {},
   "outputs": [
    {
     "name": "stdout",
     "output_type": "stream",
     "text": [
      "Even Number\n"
     ]
    }
   ],
   "source": [
    "x=6\n",
    "r=x%2\n",
    "\n",
    "if r==0:\n",
    "   print('Even Number')"
   ]
  },
  {
   "cell_type": "code",
   "execution_count": 7,
   "id": "9efe8d9c-7958-49e8-802a-0ff777b77efd",
   "metadata": {},
   "outputs": [],
   "source": [
    "x = 7\n",
    "r = x % 2 \n",
    "\n",
    "if r == 0:\n",
    "    print('Even number')"
   ]
  },
  {
   "cell_type": "code",
   "execution_count": 8,
   "id": "2de7e841-673f-420c-9f84-0aac5d85daf2",
   "metadata": {},
   "outputs": [
    {
     "name": "stdout",
     "output_type": "stream",
     "text": [
      "odd number\n"
     ]
    }
   ],
   "source": [
    "x = 9\n",
    "r = x % 2 \n",
    "\n",
    "if r == 0:\n",
    "    print('Even number')\n",
    "print('odd number')"
   ]
  },
  {
   "cell_type": "code",
   "execution_count": 9,
   "id": "dc5afaca-1c08-4e7b-9f74-7ae02845e452",
   "metadata": {},
   "outputs": [
    {
     "name": "stdout",
     "output_type": "stream",
     "text": [
      "Even number\n",
      "odd number\n"
     ]
    }
   ],
   "source": [
    "x = 8\n",
    "r = x % 2 \n",
    "\n",
    "if r == 0:\n",
    "    print('Even number')\n",
    "print('odd number')"
   ]
  },
  {
   "cell_type": "code",
   "execution_count": 10,
   "id": "0e5ab6d3-eda4-4090-81c3-74421c96704c",
   "metadata": {},
   "outputs": [
    {
     "name": "stdout",
     "output_type": "stream",
     "text": [
      "odd number\n"
     ]
    }
   ],
   "source": [
    "x = 7\n",
    "r = x % 2 \n",
    "\n",
    "if r == 0:\n",
    "    print('Even number')\n",
    "if r == 1:\n",
    "    print('odd number')"
   ]
  },
  {
   "cell_type": "code",
   "execution_count": 11,
   "id": "0b875e3b-16f2-4167-b0ca-5f1646c76146",
   "metadata": {},
   "outputs": [
    {
     "name": "stdout",
     "output_type": "stream",
     "text": [
      "odd number\n"
     ]
    }
   ],
   "source": [
    "x = 11\n",
    "r != x % 2 \n",
    "\n",
    "if r == 0:\n",
    "    print('Even number')\n",
    "if r == 1:\n",
    "    print('odd number')"
   ]
  },
  {
   "cell_type": "code",
   "execution_count": 12,
   "id": "9c016f25-6cf6-427f-bad1-e013d73cf993",
   "metadata": {},
   "outputs": [
    {
     "name": "stdout",
     "output_type": "stream",
     "text": [
      "Even number\n"
     ]
    }
   ],
   "source": [
    "x = 12\n",
    "r = x % 2 \n",
    "\n",
    "if r == 0:\n",
    "    print('Even number')\n",
    "if r == 1:\n",
    "    print('odd number')"
   ]
  },
  {
   "cell_type": "code",
   "execution_count": 13,
   "id": "4b5b70a2-005a-439f-b446-cc4d959b0b6e",
   "metadata": {},
   "outputs": [
    {
     "name": "stdout",
     "output_type": "stream",
     "text": [
      "odd number\n"
     ]
    }
   ],
   "source": [
    "x = 19\n",
    "r = x % 2 \n",
    "\n",
    "if r == 0:\n",
    "    print('Even number')\n",
    "    \n",
    "if r != 0:\n",
    "    print('odd number')"
   ]
  },
  {
   "cell_type": "markdown",
   "id": "5f5049a7-7fa8-4c38-86c7-4220910ba426",
   "metadata": {},
   "source": [
    "if we observe the code its too many line cuz many of the coder always they wanted to reduce the code lenght which is very good practise. instead of 2 if we can use if-- else "
   ]
  },
  {
   "cell_type": "code",
   "execution_count": 15,
   "id": "206297ee-b8e7-4fe9-9aa7-61e8599fed46",
   "metadata": {},
   "outputs": [
    {
     "name": "stdout",
     "output_type": "stream",
     "text": [
      "Odd Number\n"
     ]
    }
   ],
   "source": [
    "x = 5\n",
    "r = x % 2\n",
    "\n",
    "if r == 0:\n",
    "    print('Even number')\n",
    "else:\n",
    "    print('Odd Number')"
   ]
  },
  {
   "cell_type": "code",
   "execution_count": 16,
   "id": "95a79018-0d5b-4f46-a337-c98d8333ba13",
   "metadata": {},
   "outputs": [
    {
     "name": "stdout",
     "output_type": "stream",
     "text": [
      "Even number\n"
     ]
    }
   ],
   "source": [
    "x = 8\n",
    "r = x % 2\n",
    "\n",
    "if r == 0:\n",
    "    print('Even number')\n",
    "else:\n",
    "    print('Odd Number')"
   ]
  },
  {
   "cell_type": "markdown",
   "id": "17a793c4-4547-4ccb-a5f2-cbf3ae08f447",
   "metadata": {},
   "source": [
    "# NESTED IF(if we have 2 condition so we need to implment with nested if )"
   ]
  },
  {
   "cell_type": "code",
   "execution_count": 18,
   "id": "e6a6336c-a18c-487b-b8de-d18d183050fb",
   "metadata": {},
   "outputs": [
    {
     "name": "stdout",
     "output_type": "stream",
     "text": [
      "Even Number\n",
      "Lower Number\n"
     ]
    }
   ],
   "source": [
    "x=4\n",
    "r=x%2\n",
    "\n",
    "if r==0:\n",
    "    print(\"Even Number\")\n",
    "    if x<5:\n",
    "        print(\"Lower Number\")\n",
    "\n",
    "else:\n",
    "    print(\"Odd Number\")\n"
   ]
  },
  {
   "cell_type": "code",
   "execution_count": 19,
   "id": "8d6a1bee-643e-4c4a-8753-0303456a66a5",
   "metadata": {},
   "outputs": [
    {
     "name": "stdout",
     "output_type": "stream",
     "text": [
      "Odd Number\n"
     ]
    }
   ],
   "source": [
    "x=7\n",
    "r=x%2\n",
    "\n",
    "if r==0:\n",
    "    print('Even Number')\n",
    "    if x>5:\n",
    "       print('Greater Number')\n",
    "\n",
    "else:\n",
    "    print('Odd Number')"
   ]
  },
  {
   "cell_type": "code",
   "execution_count": 20,
   "id": "4994e30e-54c5-48c4-8f21-0f30a400c14a",
   "metadata": {},
   "outputs": [
    {
     "name": "stdout",
     "output_type": "stream",
     "text": [
      "Even number\n",
      "not greater \n"
     ]
    }
   ],
   "source": [
    "x = 4\n",
    "r = x % 2\n",
    "\n",
    "if r == 0:\n",
    "    print('Even number')\n",
    "    if x>5 :\n",
    "        print('greater number')\n",
    "    else:\n",
    "       print('not greater ')\n",
    "else:\n",
    "    print('odd number')"
   ]
  },
  {
   "cell_type": "code",
   "execution_count": 21,
   "id": "d620c84d-52f6-4bc3-9e71-b1d7eb5f835a",
   "metadata": {},
   "outputs": [
    {
     "name": "stdout",
     "output_type": "stream",
     "text": [
      "Even number\n",
      "greater number\n"
     ]
    }
   ],
   "source": [
    "x = 10\n",
    "r = x % 2\n",
    "\n",
    "if r == 0:\n",
    "    print('Even number')\n",
    "    if x>5 :\n",
    "        print('greater number')\n",
    "    else:\n",
    "       print('not greater ')\n",
    "else:\n",
    "    print('odd number')"
   ]
  },
  {
   "cell_type": "markdown",
   "id": "de204807-ce18-48f5-a078-1edcc8031c09",
   "metadata": {},
   "source": [
    "# IF - ELIF- ELSE "
   ]
  },
  {
   "cell_type": "code",
   "execution_count": 23,
   "id": "ad743bdc-e746-4ea1-afd1-06ec6ea18c5f",
   "metadata": {},
   "outputs": [
    {
     "name": "stdout",
     "output_type": "stream",
     "text": [
      "Two\n"
     ]
    }
   ],
   "source": [
    "x = 2\n",
    "\n",
    "if x == 1:\n",
    "    print('one')\n",
    "if x == 2:\n",
    "    print('Two')\n",
    "if x == 3:\n",
    "    print('Three')\n",
    "if x == 4:\n",
    "    print('four')"
   ]
  },
  {
   "cell_type": "code",
   "execution_count": 24,
   "id": "40994fb8-bc50-44fb-9c2b-077b769b1b3f",
   "metadata": {},
   "outputs": [
    {
     "name": "stdout",
     "output_type": "stream",
     "text": [
      "Three\n"
     ]
    }
   ],
   "source": [
    "x = 3\n",
    "\n",
    "if x == 1:\n",
    "    print('one')\n",
    "if x == 2:\n",
    "    print('Two')\n",
    "if x == 3:\n",
    "    print('Three')\n",
    "if x == 4:\n",
    "    print('four')"
   ]
  },
  {
   "cell_type": "code",
   "execution_count": 25,
   "id": "5504b65d-b094-4460-a86e-7f716216748f",
   "metadata": {},
   "outputs": [],
   "source": [
    "x = 5\n",
    "\n",
    "if x == 1:\n",
    "    print('one')\n",
    "if x == 2:\n",
    "    print('Two')\n",
    "if x == 3:\n",
    "    print('Three')\n",
    "if x == 4:\n",
    "    print('four')"
   ]
  },
  {
   "cell_type": "code",
   "execution_count": 26,
   "id": "284cd8a4-ef28-49d0-a0dc-82ec35d5a6d1",
   "metadata": {},
   "outputs": [
    {
     "name": "stdout",
     "output_type": "stream",
     "text": [
      "No Output\n"
     ]
    }
   ],
   "source": [
    "x = 7\n",
    "\n",
    "if x == 1:\n",
    "    print('one')\n",
    "if x == 2:\n",
    "    print('Two')\n",
    "if x == 3:\n",
    "    print('Three')\n",
    "if x == 4:\n",
    "    print('four')\n",
    "\n",
    "else:\n",
    "    print('No Output')"
   ]
  },
  {
   "cell_type": "code",
   "execution_count": 27,
   "id": "b35961fb-68db-430c-83f7-45285591f645",
   "metadata": {},
   "outputs": [
    {
     "name": "stdout",
     "output_type": "stream",
     "text": [
      "Four\n"
     ]
    }
   ],
   "source": [
    "x=4\n",
    "\n",
    "if x==1:\n",
    "    print('One')\n",
    "elif x==2:\n",
    "    print('Two')\n",
    "elif x==3:\n",
    "    print('Three')\n",
    "elif x==4:\n",
    "    print('Four')\n",
    "\n",
    "else:\n",
    "    print('No output')"
   ]
  },
  {
   "cell_type": "code",
   "execution_count": 28,
   "id": "c542f302-7fdd-4227-a5d1-12bcf9cc2ca6",
   "metadata": {},
   "outputs": [
    {
     "name": "stdout",
     "output_type": "stream",
     "text": [
      "a is greater than b\n"
     ]
    }
   ],
   "source": [
    "a = 30\n",
    "b = 20\n",
    "if a > b: print(\"a is greater than b\")"
   ]
  },
  {
   "cell_type": "code",
   "execution_count": 29,
   "id": "b49cb132-bbc9-4e8e-a6e0-09e4d761077c",
   "metadata": {},
   "outputs": [
    {
     "name": "stdout",
     "output_type": "stream",
     "text": [
      "a is lesser than b\n"
     ]
    }
   ],
   "source": [
    "a =30\n",
    "b = 50\n",
    "if a > b:\n",
    "    print(\"a is greater than b\")\n",
    "\n",
    "else:\n",
    "    print('a is lesser than b')"
   ]
  },
  {
   "cell_type": "code",
   "execution_count": 30,
   "id": "da3196da-1756-43c1-a9f6-8e607d90dac6",
   "metadata": {},
   "outputs": [
    {
     "name": "stdout",
     "output_type": "stream",
     "text": [
      "True\n"
     ]
    }
   ],
   "source": [
    "a=100\n",
    "b=50\n",
    "c=50\n",
    "\n",
    "if (a == (b + c)):\n",
    "    print('True')\n",
    "else:\n",
    "    print('False')"
   ]
  },
  {
   "cell_type": "code",
   "execution_count": 31,
   "id": "b2509d18-dfd8-45fd-9e95-be0cc2f53bd8",
   "metadata": {},
   "outputs": [
    {
     "name": "stdout",
     "output_type": "stream",
     "text": [
      "False\n"
     ]
    }
   ],
   "source": [
    "a=100\n",
    "b=50\n",
    "c=50\n",
    "\n",
    "if (a == (b - c)):\n",
    "    print('True')\n",
    "else:\n",
    "    print('False')"
   ]
  }
 ],
 "metadata": {
  "kernelspec": {
   "display_name": "Python [conda env:base] *",
   "language": "python",
   "name": "conda-base-py"
  },
  "language_info": {
   "codemirror_mode": {
    "name": "ipython",
    "version": 3
   },
   "file_extension": ".py",
   "mimetype": "text/x-python",
   "name": "python",
   "nbconvert_exporter": "python",
   "pygments_lexer": "ipython3",
   "version": "3.12.7"
  }
 },
 "nbformat": 4,
 "nbformat_minor": 5
}
