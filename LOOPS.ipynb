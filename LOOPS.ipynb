{
 "cells": [
  {
   "cell_type": "markdown",
   "id": "7b581c60-c048-4b9a-8e5e-50a394ca48eb",
   "metadata": {},
   "source": [
    "# Loops\n",
    "in programing world some time we keep on repeating , may be you want to repeat 5 statement so one way is copy & paste multiple times or other way is \n",
    "\n",
    "if you want to print the datascience 1000 times then what you will you cant copy for 1000 times , if you want to print 1000 times then you cant do manualy . that is the reason why we need to apply loop ->\n",
    "2 type of loops --  While loop & For loop"
   ]
  },
  {
   "cell_type": "markdown",
   "id": "3dc7d95f-f459-461d-a16c-abba6dc73daf",
   "metadata": {},
   "source": [
    "# WHILE LOOP"
   ]
  },
  {
   "cell_type": "code",
   "execution_count": 3,
   "id": "b1a60820-f74f-462e-9a22-f93e5f2767b2",
   "metadata": {},
   "outputs": [
    {
     "name": "stdout",
     "output_type": "stream",
     "text": [
      "Praveen Katta\n",
      "Praveen Katta\n",
      "Praveen Katta\n",
      "Praveen Katta\n",
      "Praveen Katta\n"
     ]
    }
   ],
   "source": [
    "print('Praveen Katta')\n",
    "print('Praveen Katta')\n",
    "print('Praveen Katta')\n",
    "print('Praveen Katta')\n",
    "print('Praveen Katta')"
   ]
  },
  {
   "cell_type": "code",
   "execution_count": 4,
   "id": "834d10e2-b1d8-40e5-aab2-1623f3e72a8a",
   "metadata": {},
   "outputs": [
    {
     "name": "stdout",
     "output_type": "stream",
     "text": [
      "Praveen Katta\n",
      "Praveen Katta\n",
      "Praveen Katta\n",
      "Praveen Katta\n",
      "Praveen Katta\n",
      "Praveen Katta\n",
      "Praveen Katta\n",
      "Praveen Katta\n",
      "Praveen Katta\n"
     ]
    }
   ],
   "source": [
    "i=1\n",
    "\n",
    "while i<=9:\n",
    "    print('Praveen Katta')\n",
    "    i = i + 1\n"
   ]
  },
  {
   "cell_type": "code",
   "execution_count": 5,
   "id": "6bb3f486-c30a-491f-9fc7-28ce81029b8b",
   "metadata": {},
   "outputs": [
    {
     "name": "stdout",
     "output_type": "stream",
     "text": [
      "Praveen Katta\n",
      "Praveen Katta\n",
      "Praveen Katta\n",
      "Praveen Katta\n",
      "Praveen Katta\n",
      "Praveen Katta\n",
      "Praveen Katta\n",
      "Praveen Katta\n"
     ]
    }
   ],
   "source": [
    "i=8\n",
    "\n",
    "while i>=1:\n",
    "    print('Praveen Katta')\n",
    "    i = i - 1"
   ]
  },
  {
   "cell_type": "code",
   "execution_count": 6,
   "id": "cdcc382c-420f-44a8-abc5-e7252a28909d",
   "metadata": {},
   "outputs": [
    {
     "name": "stdout",
     "output_type": "stream",
     "text": [
      "Praveen Katta : 1\n",
      "Praveen Katta : 2\n",
      "Praveen Katta : 3\n",
      "Praveen Katta : 4\n",
      "Praveen Katta : 5\n"
     ]
    }
   ],
   "source": [
    "i=1\n",
    "\n",
    "while i<=5:\n",
    "    print('Praveen Katta :',i)\n",
    "    i = i + 1\n"
   ]
  },
  {
   "cell_type": "code",
   "execution_count": 7,
   "id": "6f592651-21b2-415a-a85a-90cd762d38cd",
   "metadata": {},
   "outputs": [
    {
     "name": "stdout",
     "output_type": "stream",
     "text": [
      "Praveen Katta : 5\n",
      "Praveen Katta : 4\n",
      "Praveen Katta : 3\n",
      "Praveen Katta : 2\n",
      "Praveen Katta : 1\n"
     ]
    }
   ],
   "source": [
    "i=5\n",
    "\n",
    "while i>=1:\n",
    "    print('Praveen Katta :',i)\n",
    "    i = i - 1\n"
   ]
  },
  {
   "cell_type": "code",
   "execution_count": 8,
   "id": "e21c316c-4f73-46fc-a13c-ede03949b96f",
   "metadata": {},
   "outputs": [
    {
     "name": "stdout",
     "output_type": "stream",
     "text": [
      "Praveen katta\n",
      "HELLO\n",
      "HELLO\n",
      "HELLO\n",
      "HELLO\n",
      "\n",
      "Praveen katta\n",
      "HELLO\n",
      "HELLO\n",
      "HELLO\n",
      "HELLO\n",
      "\n",
      "Praveen katta\n",
      "HELLO\n",
      "HELLO\n",
      "HELLO\n",
      "HELLO\n",
      "\n",
      "Praveen katta\n",
      "HELLO\n",
      "HELLO\n",
      "HELLO\n",
      "HELLO\n",
      "\n",
      "Praveen katta\n",
      "HELLO\n",
      "HELLO\n",
      "HELLO\n",
      "HELLO\n",
      "\n"
     ]
    }
   ],
   "source": [
    "i = 1\n",
    "\n",
    "while i<=5:\n",
    "    print('Praveen katta')\n",
    "    j = 1\n",
    "    while j<=4:\n",
    "        print('HELLO')\n",
    "        j = j + 1\n",
    "        \n",
    "    i = i + 1\n",
    "    print()"
   ]
  },
  {
   "cell_type": "code",
   "execution_count": 9,
   "id": "364243cc-4dc5-4378-93a6-615661fdacc8",
   "metadata": {},
   "outputs": [
    {
     "name": "stdout",
     "output_type": "stream",
     "text": [
      "Praveen katta HELLO HELLO HELLO HELLO\n",
      "Praveen katta HELLO HELLO HELLO HELLO\n",
      "Praveen katta HELLO HELLO HELLO HELLO\n",
      "Praveen katta HELLO HELLO HELLO HELLO\n",
      "Praveen katta HELLO HELLO HELLO HELLO\n"
     ]
    }
   ],
   "source": [
    "i = 1\n",
    "\n",
    "while i<=5:\n",
    "    print('Praveen katta',end=\"\")\n",
    "    j = 1\n",
    "    while j<=4:\n",
    "        print(' HELLO',end=\"\")\n",
    "        j = j + 1\n",
    "        \n",
    "    i = i + 1\n",
    "    print()"
   ]
  },
  {
   "cell_type": "code",
   "execution_count": 10,
   "id": "ed551112-d594-43c8-a1a1-9766b0f27876",
   "metadata": {},
   "outputs": [
    {
     "name": "stdout",
     "output_type": "stream",
     "text": [
      "0 1 2 \n",
      "0 2 4 \n"
     ]
    }
   ],
   "source": [
    "i = 1\n",
    "\n",
    "while i <= 2 :\n",
    "    j = 0\n",
    "    while  j <= 2 :\n",
    "        print(i*j, end=\" \")\n",
    "        j += 1\n",
    "    print()\n",
    "    i += 1"
   ]
  },
  {
   "cell_type": "code",
   "execution_count": 11,
   "id": "292a1af9-7665-44e8-b65f-37cd5f2b6447",
   "metadata": {},
   "outputs": [
    {
     "name": "stdout",
     "output_type": "stream",
     "text": [
      "0 1 2 3 \n",
      "0 2 4 6 \n",
      "0 3 6 9 \n",
      "0 4 8 12 \n"
     ]
    }
   ],
   "source": [
    "\n",
    "i = 1\n",
    "while i <= 4 :\n",
    "    j = 0\n",
    "    while  j <= 3 :\n",
    "        print(i*j, end=\" \")\n",
    "        j += 1\n",
    "    print()\n",
    "    i += 1"
   ]
  },
  {
   "cell_type": "code",
   "execution_count": 12,
   "id": "25c38d15-6629-4a9c-9c95-cae4e6b3b8d1",
   "metadata": {},
   "outputs": [
    {
     "name": "stdout",
     "output_type": "stream",
     "text": [
      "0 1 2 3 4 5 6 7 \n",
      "0 2 4 6 8 10 12 14 \n",
      "0 3 6 9 12 15 18 21 \n",
      "0 4 8 12 16 20 24 28 \n",
      "0 5 10 15 20 25 30 35 \n",
      "0 6 12 18 24 30 36 42 \n",
      "0 7 14 21 28 35 42 49 \n",
      "0 8 16 24 32 40 48 56 \n"
     ]
    }
   ],
   "source": [
    "i=1\n",
    "\n",
    "while i <= 8:\n",
    "    j = 0\n",
    "    while j <= 7:\n",
    "        print(i*j,end=\" \") \n",
    "        j += 1\n",
    "    print()\n",
    "    i += 1"
   ]
  },
  {
   "cell_type": "markdown",
   "id": "b9dda321-0990-4f87-b49c-8ecf3890f630",
   "metadata": {},
   "source": [
    "# FOR LOOP"
   ]
  },
  {
   "cell_type": "code",
   "execution_count": 14,
   "id": "301e2db2-a90b-45f5-9e63-0da9506c3929",
   "metadata": {},
   "outputs": [
    {
     "name": "stdout",
     "output_type": "stream",
     "text": [
      "D\n",
      "a\n",
      "t\n",
      "a\n",
      " \n",
      "s\n",
      "c\n",
      "i\n",
      "e\n",
      "n\n",
      "c\n",
      "e\n"
     ]
    }
   ],
   "source": [
    "sub ='Data science'\n",
    "for i in sub:\n",
    "    print(i)"
   ]
  },
  {
   "cell_type": "code",
   "execution_count": 15,
   "id": "09348e8a-474a-45f4-b546-4ad88e4d8932",
   "metadata": {},
   "outputs": [
    {
     "name": "stdout",
     "output_type": "stream",
     "text": [
      "1\n",
      "2\n",
      "3\n",
      "4\n",
      "8\n",
      "praveen\n"
     ]
    }
   ],
   "source": [
    "l =[1,2,3,4,8,'praveen']\n",
    "for i in l:\n",
    "    print(i)"
   ]
  },
  {
   "cell_type": "code",
   "execution_count": 16,
   "id": "21c4709b-dd97-4866-afe4-2acce040452a",
   "metadata": {},
   "outputs": [
    {
     "name": "stdout",
     "output_type": "stream",
     "text": [
      "1\n",
      "4\n",
      "9\n",
      "16\n",
      "25\n",
      "36\n",
      "49\n",
      "64\n",
      "81\n",
      "100\n"
     ]
    }
   ],
   "source": [
    "for i in [1,4,9,16,25,36,49,64,81,100]:\n",
    "    print(i)"
   ]
  },
  {
   "cell_type": "code",
   "execution_count": 17,
   "id": "d11b098a-593c-41c1-94fa-ca677cec0d7d",
   "metadata": {},
   "outputs": [
    {
     "name": "stdout",
     "output_type": "stream",
     "text": [
      "0\n",
      "1\n",
      "2\n",
      "3\n",
      "4\n",
      "5\n",
      "6\n"
     ]
    }
   ],
   "source": [
    "for i in range(7):\n",
    "    print(i)"
   ]
  },
  {
   "cell_type": "code",
   "execution_count": 18,
   "id": "b553b25d-4591-458a-bb75-10d1ecf457e7",
   "metadata": {},
   "outputs": [
    {
     "name": "stdout",
     "output_type": "stream",
     "text": [
      "6\n",
      "7\n",
      "8\n",
      "9\n",
      "10\n"
     ]
    }
   ],
   "source": [
    "for i in range(6,11):\n",
    "    print(i)"
   ]
  },
  {
   "cell_type": "code",
   "execution_count": 19,
   "id": "a218856d-a0c1-4971-a5d8-09c985aa7349",
   "metadata": {},
   "outputs": [
    {
     "name": "stdout",
     "output_type": "stream",
     "text": [
      "1\n",
      "6\n",
      "11\n",
      "16\n"
     ]
    }
   ],
   "source": [
    "for i in range(1,20,5):\n",
    "    print(i)\n"
   ]
  },
  {
   "cell_type": "code",
   "execution_count": 20,
   "id": "ee0d8dec-33a9-4f4c-b76f-d21f537c74ba",
   "metadata": {},
   "outputs": [
    {
     "name": "stdout",
     "output_type": "stream",
     "text": [
      "3\n",
      "6\n",
      "9\n",
      "12\n",
      "15\n",
      "18\n",
      "21\n",
      "24\n",
      "27\n",
      "30\n",
      "33\n",
      "36\n",
      "39\n",
      "42\n",
      "45\n",
      "48\n",
      "51\n",
      "54\n",
      "57\n",
      "60\n",
      "63\n",
      "66\n",
      "69\n",
      "72\n",
      "75\n",
      "78\n",
      "81\n",
      "84\n",
      "87\n",
      "90\n",
      "93\n",
      "96\n",
      "99\n"
     ]
    }
   ],
   "source": [
    "for i in range(1,100):\n",
    "\n",
    "    if i%3==0:\n",
    "        print(i)"
   ]
  },
  {
   "cell_type": "code",
   "execution_count": 21,
   "id": "6e710f00-6c55-4ad7-84fb-0c7588d8346a",
   "metadata": {},
   "outputs": [
    {
     "name": "stdout",
     "output_type": "stream",
     "text": [
      "5\n",
      "10\n",
      "15\n",
      "20\n",
      "25\n",
      "30\n",
      "35\n",
      "40\n",
      "45\n",
      "50\n",
      "55\n",
      "60\n",
      "65\n",
      "70\n",
      "75\n",
      "80\n",
      "85\n",
      "90\n",
      "95\n"
     ]
    }
   ],
   "source": [
    "for i in range(1,100):\n",
    "\n",
    "    if i%5 ==0:\n",
    "        print(i)"
   ]
  },
  {
   "cell_type": "markdown",
   "id": "0b137956-ab8c-4fee-a5a7-390920527db6",
   "metadata": {},
   "source": [
    "# USING Break ,Continue & Pass keywords"
   ]
  },
  {
   "cell_type": "code",
   "execution_count": 23,
   "id": "cbf1a0ec-dd96-4bc5-9123-31653230043f",
   "metadata": {},
   "outputs": [
    {
     "name": "stdin",
     "output_type": "stream",
     "text": [
      "How many chocolates do you want:? 10\n"
     ]
    },
    {
     "name": "stdout",
     "output_type": "stream",
     "text": [
      "chocolates\n",
      "chocolates\n",
      "chocolates\n",
      "chocolates\n",
      "chocolates\n",
      "chocolates\n",
      "chocolates\n",
      "chocolates\n",
      "chocolates\n",
      "chocolates\n"
     ]
    }
   ],
   "source": [
    "x = int(input('How many chocolates do you want:?'))\n",
    "\n",
    "i = 1\n",
    "while i<=x:\n",
    "    print('chocolates')\n",
    "    i += 1       "
   ]
  },
  {
   "cell_type": "code",
   "execution_count": 24,
   "id": "3cb1c53e-1ab0-4083-b4ff-3b8c2388c927",
   "metadata": {},
   "outputs": [
    {
     "name": "stdin",
     "output_type": "stream",
     "text": [
      "How many chocolates do you want:? 11\n"
     ]
    },
    {
     "name": "stdout",
     "output_type": "stream",
     "text": [
      "chocolates\n",
      "chocolates\n",
      "chocolates\n",
      "chocolates\n",
      "chocolates\n",
      "chocolates\n",
      "chocolates\n",
      "chocolates\n",
      "chocolates\n",
      "chocolates\n",
      "chocolates\n"
     ]
    }
   ],
   "source": [
    "ava = 5\n",
    "\n",
    "x = int(input('How many chocolates do you want:?'))\n",
    "\n",
    "i = 1\n",
    "while i<=x:\n",
    "    print('chocolates')\n",
    "    i += 1       "
   ]
  },
  {
   "cell_type": "code",
   "execution_count": 25,
   "id": "e9fb954e-30c5-4474-81aa-6c0b99d883ac",
   "metadata": {},
   "outputs": [
    {
     "name": "stdin",
     "output_type": "stream",
     "text": [
      "How many chocolates do you want:? 44\n"
     ]
    },
    {
     "name": "stdout",
     "output_type": "stream",
     "text": [
      "chocolates\n",
      "chocolates\n",
      "chocolates\n",
      "chocolates\n",
      "chocolates\n",
      "chocolates\n",
      "chocolates\n",
      "chocolates\n",
      "chocolates\n",
      "chocolates\n"
     ]
    }
   ],
   "source": [
    "available_chocolates = 10\n",
    "\n",
    "x = int(input('How many chocolates do you want:?'))\n",
    "\n",
    "i = 1\n",
    "while i<=x:\n",
    "\n",
    "    if i>available_chocolates:\n",
    "        break\n",
    "    print('chocolates')\n",
    "    i += 1      "
   ]
  },
  {
   "cell_type": "code",
   "execution_count": 26,
   "id": "a4443ae5-d363-4a63-bb58-4112dc7a7f1d",
   "metadata": {},
   "outputs": [
    {
     "name": "stdin",
     "output_type": "stream",
     "text": [
      "How many chocolates do you want:? 11\n"
     ]
    },
    {
     "name": "stdout",
     "output_type": "stream",
     "text": [
      "chocolates\n",
      "chocolates\n",
      "chocolates\n",
      "chocolates\n",
      "chocolates\n",
      "Stock Reached its limit\n",
      "Thank You Come Again\n"
     ]
    }
   ],
   "source": [
    "available_chocolates = 5\n",
    "\n",
    "x = int(input('How many chocolates do you want:?'))\n",
    "\n",
    "i = 1\n",
    "while i<=x:\n",
    "\n",
    "    if i>available_chocolates:\n",
    "        print('Stock Reached its limit')\n",
    "        break\n",
    "    print('chocolates')\n",
    "    i += 1   \n",
    "\n",
    "print('Thank You Come Again')"
   ]
  },
  {
   "cell_type": "code",
   "execution_count": 27,
   "id": "09555025-88b2-431c-ad7d-2793ea8f294d",
   "metadata": {},
   "outputs": [
    {
     "name": "stdout",
     "output_type": "stream",
     "text": [
      "1\n",
      "2\n",
      "3\n",
      "4\n",
      "5\n",
      "6\n",
      "7\n",
      "8\n"
     ]
    }
   ],
   "source": [
    "for i in range(1,11):\n",
    "    if i == 9:\n",
    "       break \n",
    "    print(i)"
   ]
  },
  {
   "cell_type": "code",
   "execution_count": 28,
   "id": "bbd0fb09-f93c-4d1b-aa6f-e7523d6f18b8",
   "metadata": {},
   "outputs": [
    {
     "name": "stdout",
     "output_type": "stream",
     "text": [
      "1\n",
      "2\n",
      "3\n",
      "4\n",
      "5\n",
      "6\n",
      "7\n",
      "9\n",
      "10\n"
     ]
    }
   ],
   "source": [
    "for i in range(1,11):\n",
    "    if i == 8:\n",
    "       continue \n",
    "    print(i)"
   ]
  },
  {
   "cell_type": "code",
   "execution_count": 29,
   "id": "265c5020-eacd-4485-bb0f-5d3bd9caa9ef",
   "metadata": {},
   "outputs": [
    {
     "name": "stdout",
     "output_type": "stream",
     "text": [
      "Number : 1\n",
      "Number : 2\n",
      "Number : 3\n",
      "Number : 4\n",
      "Number : 5\n",
      "Number : 6\n",
      "Number : 8\n",
      "Number : 9\n",
      "Number : 10\n"
     ]
    }
   ],
   "source": [
    "for i in range(1,11):\n",
    "    if i == 7:\n",
    "       continue \n",
    "    print('Number :',i)"
   ]
  },
  {
   "cell_type": "code",
   "execution_count": 30,
   "id": "fee862b7-afb7-4261-ab91-223f0dbbb295",
   "metadata": {},
   "outputs": [],
   "source": [
    "for i in range(1,11): # pass the code & it wont go ( code give you the error)\n",
    "    pass"
   ]
  },
  {
   "cell_type": "code",
   "execution_count": 31,
   "id": "21b42f15-dae2-4aec-bb7d-73e85f8b2d23",
   "metadata": {},
   "outputs": [
    {
     "name": "stdout",
     "output_type": "stream",
     "text": [
      "3\n",
      "6\n",
      "9\n",
      "12\n",
      "15\n",
      "18\n",
      "21\n",
      "24\n",
      "27\n",
      "30\n",
      "33\n",
      "36\n",
      "39\n",
      "42\n",
      "45\n",
      "48\n",
      "end\n"
     ]
    }
   ],
   "source": [
    "for i in range(1,51):\n",
    "    \n",
    "    if i%3 == 0:\n",
    "    \n",
    "        print(i)\n",
    "print('end')    "
   ]
  },
  {
   "cell_type": "code",
   "execution_count": 32,
   "id": "9207613a-175d-4524-ae56-f64bee21c752",
   "metadata": {},
   "outputs": [
    {
     "name": "stdout",
     "output_type": "stream",
     "text": [
      "1\n",
      "2\n",
      "4\n",
      "5\n",
      "7\n",
      "8\n",
      "10\n",
      "11\n",
      "13\n",
      "14\n",
      "16\n",
      "17\n",
      "19\n",
      "20\n",
      "22\n",
      "23\n",
      "25\n",
      "26\n",
      "28\n",
      "29\n",
      "31\n",
      "32\n",
      "34\n",
      "35\n",
      "37\n",
      "38\n",
      "40\n",
      "41\n",
      "43\n",
      "44\n",
      "46\n",
      "47\n",
      "49\n",
      "50\n",
      "end\n"
     ]
    }
   ],
   "source": [
    "for i in range(1,51):\n",
    "    \n",
    "    if i%3 == 0:\n",
    "        continue\n",
    "    print(i)\n",
    "print('end') "
   ]
  },
  {
   "cell_type": "code",
   "execution_count": 33,
   "id": "5f18dbb7-e1a6-4d14-b573-b18762f00e79",
   "metadata": {},
   "outputs": [
    {
     "name": "stdout",
     "output_type": "stream",
     "text": [
      "1\n",
      "2\n",
      "4\n",
      "7\n",
      "8\n",
      "11\n",
      "13\n",
      "14\n",
      "16\n",
      "17\n",
      "19\n",
      "22\n",
      "23\n",
      "26\n",
      "28\n",
      "29\n",
      "31\n",
      "32\n",
      "34\n",
      "37\n",
      "38\n",
      "41\n",
      "43\n",
      "44\n",
      "46\n",
      "47\n",
      "49\n"
     ]
    }
   ],
   "source": [
    "for i in range(1,51):\n",
    "    \n",
    "    if i%3 == 0 or i%5 == 0:\n",
    "        continue\n",
    "    print(i)"
   ]
  },
  {
   "cell_type": "code",
   "execution_count": 34,
   "id": "1247ccf3-24a3-4bb0-9e87-971d9995439a",
   "metadata": {},
   "outputs": [
    {
     "name": "stdout",
     "output_type": "stream",
     "text": [
      "1\n",
      "2\n",
      "3\n",
      "4\n",
      "5\n",
      "6\n",
      "7\n",
      "8\n",
      "9\n",
      "10\n",
      "11\n",
      "12\n",
      "13\n",
      "14\n",
      "16\n",
      "17\n",
      "18\n",
      "19\n",
      "20\n",
      "21\n",
      "22\n",
      "23\n",
      "24\n",
      "25\n",
      "26\n",
      "27\n",
      "28\n",
      "29\n",
      "31\n",
      "32\n",
      "33\n",
      "34\n",
      "35\n",
      "36\n",
      "37\n",
      "38\n",
      "39\n",
      "40\n",
      "41\n",
      "42\n",
      "43\n",
      "44\n",
      "46\n",
      "47\n",
      "48\n",
      "49\n",
      "end\n"
     ]
    }
   ],
   "source": [
    "for i in range(1,50):\n",
    "    if i%3 == 0 and i%5 == 0:\n",
    "        continue\n",
    "    print(i)\n",
    "print('end') "
   ]
  },
  {
   "cell_type": "code",
   "execution_count": 35,
   "id": "fdee3b63-09b8-4687-b045-457bb60924d3",
   "metadata": {},
   "outputs": [
    {
     "name": "stdout",
     "output_type": "stream",
     "text": [
      "Odd\n",
      "2\n",
      "Odd\n",
      "4\n",
      "Odd\n",
      "6\n",
      "Odd\n",
      "8\n",
      "Odd\n",
      "10\n",
      "Odd\n",
      "12\n",
      "Odd\n",
      "14\n",
      "Odd\n",
      "16\n",
      "Odd\n",
      "18\n",
      "Odd\n",
      "20\n",
      "Odd\n",
      "22\n",
      "Odd\n",
      "24\n",
      "Odd\n",
      "26\n",
      "Odd\n",
      "28\n",
      "Odd\n",
      "30\n",
      "Odd\n",
      "32\n",
      "Odd\n",
      "34\n",
      "Odd\n",
      "36\n",
      "Odd\n",
      "38\n",
      "Odd\n",
      "40\n",
      "Odd\n",
      "42\n",
      "Odd\n",
      "44\n",
      "Odd\n",
      "46\n",
      "Odd\n",
      "48\n",
      "Odd\n",
      "50\n"
     ]
    }
   ],
   "source": [
    "for i in range(1,51):\n",
    "    \n",
    "    if (i%2  != 0):\n",
    "        print('Odd')\n",
    "        continue\n",
    "    else:\n",
    "        print(i)\n"
   ]
  },
  {
   "cell_type": "code",
   "execution_count": null,
   "id": "9c89de98-8200-49b4-803f-edba5ee3c95c",
   "metadata": {},
   "outputs": [],
   "source": []
  },
  {
   "cell_type": "markdown",
   "id": "f1a4c20e-829a-4d0a-bc46-af6a43536285",
   "metadata": {},
   "source": [
    "# PRINTING PATTERNS"
   ]
  },
  {
   "cell_type": "code",
   "execution_count": 37,
   "id": "24ac034c-df53-4c5a-b0af-455f0dc30c68",
   "metadata": {},
   "outputs": [
    {
     "name": "stdout",
     "output_type": "stream",
     "text": [
      "# # # # \n",
      "# # # # \n",
      "# # # # \n"
     ]
    }
   ],
   "source": [
    "for i in range(1,4):\n",
    "    i=i+1\n",
    "    print('# # # # ')"
   ]
  },
  {
   "cell_type": "code",
   "execution_count": 38,
   "id": "beebeb62-84df-4525-98c3-6ace27193992",
   "metadata": {},
   "outputs": [
    {
     "name": "stdout",
     "output_type": "stream",
     "text": [
      "# # # #\n",
      "# # # #\n",
      "# # # #\n",
      "# # # #\n",
      "# # # #\n"
     ]
    }
   ],
   "source": [
    "for i in range(1,6):\n",
    "    if i<=6:\n",
    "        print('# # # #')"
   ]
  },
  {
   "cell_type": "code",
   "execution_count": 39,
   "id": "cfe3feb5-bfd2-4ee2-8b3d-067e55723c0a",
   "metadata": {},
   "outputs": [
    {
     "name": "stdout",
     "output_type": "stream",
     "text": [
      "#\n",
      "#\n",
      "#\n",
      "#\n"
     ]
    }
   ],
   "source": [
    "for j in range(4):\n",
    "    print('#')"
   ]
  },
  {
   "cell_type": "code",
   "execution_count": 40,
   "id": "b69940bc-895d-4d53-970b-420952454752",
   "metadata": {},
   "outputs": [
    {
     "name": "stdout",
     "output_type": "stream",
     "text": [
      "* * * * *\n",
      "* * * * *\n",
      "* * * * *\n",
      "* * * * *\n",
      "* * * * *\n"
     ]
    }
   ],
   "source": [
    "for j in range(5):\n",
    "    print('* * * * *')"
   ]
  },
  {
   "cell_type": "code",
   "execution_count": 41,
   "id": "fe77a525-9019-4b1d-836a-d089dbd30370",
   "metadata": {},
   "outputs": [
    {
     "name": "stdout",
     "output_type": "stream",
     "text": [
      "& & & & & "
     ]
    }
   ],
   "source": [
    "for j in range(5):\n",
    "    print('&', end = \" \")"
   ]
  },
  {
   "cell_type": "code",
   "execution_count": 42,
   "id": "d929be09-6bfa-483a-88db-44134e82a145",
   "metadata": {},
   "outputs": [
    {
     "name": "stdout",
     "output_type": "stream",
     "text": [
      "# # # # # # # * * * * * * * "
     ]
    }
   ],
   "source": [
    "for j in range(7):\n",
    "    print('#', end=\" \")\n",
    "\n",
    "for j in range(7):\n",
    "    print('*', end=\" \")\n"
   ]
  },
  {
   "cell_type": "code",
   "execution_count": 43,
   "id": "2b25c28a-f9e7-4300-8b73-7cb0423ad7c6",
   "metadata": {},
   "outputs": [
    {
     "name": "stdout",
     "output_type": "stream",
     "text": [
      "# # # # # # # \n",
      "* * * * * * * "
     ]
    }
   ],
   "source": [
    "for j in range(7):\n",
    "    print('#', end=\" \")\n",
    "\n",
    "print()\n",
    "\n",
    "for j in range(7):\n",
    "    print('*', end=\" \")\n"
   ]
  },
  {
   "cell_type": "code",
   "execution_count": 44,
   "id": "5494dae5-4dba-4f8e-b990-ccc735eec4a3",
   "metadata": {},
   "outputs": [
    {
     "name": "stdout",
     "output_type": "stream",
     "text": [
      "#  #  #  #  \n",
      "#  #  #  #  \n",
      "#  #  #  #  \n",
      "#  #  #  #  "
     ]
    }
   ],
   "source": [
    "for j in range(4):\n",
    "    print('#', end=\"  \")\n",
    "    \n",
    "print()\n",
    "\n",
    "for j in range(4):\n",
    "    print('#', end=\"  \")\n",
    "\n",
    "print()\n",
    "\n",
    "for j in range(4):\n",
    "    print('#', end=\"  \")\n",
    "    \n",
    "print()\n",
    "\n",
    "for j in range(4):\n",
    "    print('#', end=\"  \")"
   ]
  },
  {
   "cell_type": "code",
   "execution_count": 45,
   "id": "99e3468a-601f-4d25-9113-ad83bf6716f9",
   "metadata": {},
   "outputs": [
    {
     "name": "stdout",
     "output_type": "stream",
     "text": [
      "#  #  #  #  #  \n",
      "#  #  #  #  #  \n",
      "#  #  #  #  #  \n",
      "#  #  #  #  #  \n",
      "#  #  #  #  #  \n"
     ]
    }
   ],
   "source": [
    "for i in range(5):\n",
    "    for j in range(5):\n",
    "        print('#', end=\"  \")\n",
    "    print()"
   ]
  },
  {
   "cell_type": "code",
   "execution_count": 46,
   "id": "7f11ec26-1cd9-4a58-be4c-6ca898de2738",
   "metadata": {},
   "outputs": [
    {
     "name": "stdout",
     "output_type": "stream",
     "text": [
      "# \n",
      "# # \n",
      "# # # \n",
      "# # # # \n",
      "# # # # # \n",
      "# # # # # # \n"
     ]
    }
   ],
   "source": [
    "for i in range(6):\n",
    "    for j in range(i+1):\n",
    "        print('#', end = \" \")\n",
    "    print()"
   ]
  },
  {
   "cell_type": "code",
   "execution_count": 47,
   "id": "16df7460-5af5-4648-bd45-e8c6185e937d",
   "metadata": {},
   "outputs": [
    {
     "name": "stdout",
     "output_type": "stream",
     "text": [
      "# \n",
      "# # \n",
      "# # # \n",
      "# # # # \n",
      "# # # # # \n",
      "# # # # # # \n",
      "# # # # # # # \n"
     ]
    }
   ],
   "source": [
    "for i in range(1,8):\n",
    "    print(\"# \"*i)"
   ]
  },
  {
   "cell_type": "code",
   "execution_count": 48,
   "id": "33d70cdc-e452-4010-a551-d1d8163e1d94",
   "metadata": {},
   "outputs": [
    {
     "name": "stdout",
     "output_type": "stream",
     "text": [
      "# \n",
      "# # \n",
      "# # # \n",
      "# # # # \n"
     ]
    }
   ],
   "source": [
    "for i in range(1,5):\n",
    "    for j in range(4):\n",
    "        if i>j:\n",
    "            print(\"#\",end=\" \")\n",
    "    print()"
   ]
  },
  {
   "cell_type": "code",
   "execution_count": 49,
   "id": "98ed1ca6-a102-4d42-b525-87bbea049ebb",
   "metadata": {},
   "outputs": [
    {
     "name": "stdout",
     "output_type": "stream",
     "text": [
      "\n",
      "#  \n",
      "#  #  \n",
      "#  #  #  \n"
     ]
    }
   ],
   "source": [
    "for i in range(4):\n",
    "    for j in range(i):\n",
    "        print('#', end=\"  \")\n",
    "    print()"
   ]
  },
  {
   "cell_type": "code",
   "execution_count": 50,
   "id": "0786acf0-dbd6-4200-a71b-7f2df2a9fbaf",
   "metadata": {},
   "outputs": [
    {
     "name": "stdout",
     "output_type": "stream",
     "text": [
      "#  \n",
      "#  #  \n",
      "#  #  #  \n",
      "#  #  #  #  \n"
     ]
    }
   ],
   "source": [
    "for i in range(4):\n",
    "    for j in range(i+1):\n",
    "        print('#', end=\"  \")\n",
    "    print()"
   ]
  },
  {
   "cell_type": "code",
   "execution_count": 51,
   "id": "5c285221-4af2-4794-8b78-d1d0e5b2535b",
   "metadata": {},
   "outputs": [
    {
     "name": "stdout",
     "output_type": "stream",
     "text": [
      "#  #  #  #  \n",
      "#  #  #  \n",
      "#  #  \n",
      "#  \n"
     ]
    }
   ],
   "source": [
    "for i in range(4):\n",
    "    for j in range(4-i):\n",
    "        print('#', end=\"  \")\n",
    "    print()"
   ]
  },
  {
   "cell_type": "code",
   "execution_count": 52,
   "id": "f9787486-a9cf-4833-982b-2e2159453263",
   "metadata": {},
   "outputs": [
    {
     "name": "stdout",
     "output_type": "stream",
     "text": [
      "# # # # \n",
      "# # # \n",
      "# # \n",
      "# \n"
     ]
    }
   ],
   "source": [
    "for i in range(1,5):\n",
    "    print(\"# \"*(5-i))"
   ]
  },
  {
   "cell_type": "code",
   "execution_count": null,
   "id": "46557255-2d7c-4dbb-aa8e-b7c2ae4b67f0",
   "metadata": {},
   "outputs": [],
   "source": []
  },
  {
   "cell_type": "markdown",
   "id": "3f5ca0ae-cb41-42fa-8d2b-091531bd1ead",
   "metadata": {},
   "source": [
    "# FOR ELSE\n",
    "- For|Else in python\n",
    "- In other language for else not supportable but in python it is supportable\n"
   ]
  },
  {
   "cell_type": "code",
   "execution_count": 54,
   "id": "c046edc0-d9d2-44a1-8f63-16f856f7b823",
   "metadata": {},
   "outputs": [
    {
     "name": "stdout",
     "output_type": "stream",
     "text": [
      "15\n"
     ]
    }
   ],
   "source": [
    "nums = [12,15,18,21,26]\n",
    "\n",
    "for num in nums:\n",
    "    if num % 5 == 0:\n",
    "        print(num)  "
   ]
  },
  {
   "cell_type": "code",
   "execution_count": 55,
   "id": "bd06e86c-f04c-401d-8e27-3278517fd12f",
   "metadata": {},
   "outputs": [
    {
     "name": "stdout",
     "output_type": "stream",
     "text": [
      "25\n",
      "30\n",
      "35\n"
     ]
    }
   ],
   "source": [
    "nums = [12,14,18,21,25,30,35]\n",
    "\n",
    "for num in nums:\n",
    "    if num % 5 == 0:\n",
    "        print(num)  "
   ]
  },
  {
   "cell_type": "code",
   "execution_count": 56,
   "id": "05e47ae6-ba17-4791-ad7b-dde2e45e2165",
   "metadata": {},
   "outputs": [
    {
     "name": "stdout",
     "output_type": "stream",
     "text": [
      "25\n",
      "20\n"
     ]
    }
   ],
   "source": [
    "nums = [12,14,18,21,25,20]\n",
    "\n",
    "for num in nums:\n",
    "    if num % 5 == 0:\n",
    "        print(num)  "
   ]
  },
  {
   "cell_type": "code",
   "execution_count": 57,
   "id": "58a0c383-d354-40d9-b3d9-24208f8ba289",
   "metadata": {},
   "outputs": [
    {
     "name": "stdout",
     "output_type": "stream",
     "text": [
      "Number Not Found\n",
      "Number Not Found\n",
      "Number Not Found\n",
      "Number Not Found\n",
      "Number Not Found\n",
      "Number Not Found\n"
     ]
    }
   ],
   "source": [
    "nums = [7,14,18,21,23,27] \n",
    "\n",
    "for num in nums:\n",
    "    if num % 5 == 0:\n",
    "        print(num)  \n",
    "        break\n",
    "    else:\n",
    "        print('Number Not Found') "
   ]
  },
  {
   "cell_type": "code",
   "execution_count": 58,
   "id": "9b2a1ed9-f61e-4a20-93c3-05945b77cc07",
   "metadata": {},
   "outputs": [
    {
     "name": "stdout",
     "output_type": "stream",
     "text": [
      "Number Not Found\n",
      "Number Not Found\n"
     ]
    }
   ],
   "source": [
    "nums = [7,14] #hear there is no number which is divisible by 5 we got output as blank\n",
    "for num in nums:\n",
    "    if num % 5 == 0:\n",
    "        print(num)  \n",
    "        break\n",
    "    else:\n",
    "        print('Number Not Found')"
   ]
  },
  {
   "cell_type": "code",
   "execution_count": 59,
   "id": "4ade4e8c-8ea0-472c-bb89-0d4c557dd9a2",
   "metadata": {},
   "outputs": [
    {
     "name": "stdout",
     "output_type": "stream",
     "text": [
      "Number Not Found\n"
     ]
    }
   ],
   "source": [
    "nums = [7,14,18,21,23,27]\n",
    "\n",
    "for num in nums:\n",
    "    if num % 5 == 0:\n",
    "        print(num)  \n",
    "        break\n",
    "else:\n",
    "        print('Number Not Found') "
   ]
  },
  {
   "cell_type": "code",
   "execution_count": 60,
   "id": "dc1a201d-08ed-4c43-a7db-390e0df9dd1d",
   "metadata": {},
   "outputs": [
    {
     "name": "stdout",
     "output_type": "stream",
     "text": [
      "10\n"
     ]
    }
   ],
   "source": [
    "nums = [10,14,18,21,20,27] \n",
    "\n",
    "for num in nums:\n",
    "    if num % 5 == 0:\n",
    "        print(num)  \n",
    "        break\n",
    "else:\n",
    "        print('Not Found')"
   ]
  },
  {
   "cell_type": "code",
   "execution_count": 61,
   "id": "fba54792-95a9-435e-b9f8-7d3df37a54fb",
   "metadata": {},
   "outputs": [
    {
     "name": "stdout",
     "output_type": "stream",
     "text": [
      "10\n",
      "20\n",
      "30\n",
      "Not Found\n"
     ]
    }
   ],
   "source": [
    "nums = [10,14,18,21,20,27,30] \n",
    "\n",
    "for num in nums:\n",
    "    if num % 5 == 0:\n",
    "        print(num)  \n",
    "        #break\n",
    "else:\n",
    "        print('Not Found')"
   ]
  },
  {
   "cell_type": "code",
   "execution_count": 62,
   "id": "5a9f4f93-6478-46db-ae99-534de5bebee5",
   "metadata": {},
   "outputs": [
    {
     "name": "stdout",
     "output_type": "stream",
     "text": [
      "10\n"
     ]
    }
   ],
   "source": [
    "nums = [10,14,18,21,20,27] #hear there is no number which is divisible by 5 we got output as blank\n",
    "for num in nums:\n",
    "    if num % 5 == 0:\n",
    "        print(num)  \n",
    "        break\n",
    "else:\n",
    "        print('Not Found')"
   ]
  },
  {
   "cell_type": "code",
   "execution_count": null,
   "id": "e0d5be7c-252a-4529-8093-edfe34453c60",
   "metadata": {},
   "outputs": [],
   "source": []
  }
 ],
 "metadata": {
  "kernelspec": {
   "display_name": "Python [conda env:base] *",
   "language": "python",
   "name": "conda-base-py"
  },
  "language_info": {
   "codemirror_mode": {
    "name": "ipython",
    "version": 3
   },
   "file_extension": ".py",
   "mimetype": "text/x-python",
   "name": "python",
   "nbconvert_exporter": "python",
   "pygments_lexer": "ipython3",
   "version": "3.12.7"
  }
 },
 "nbformat": 4,
 "nbformat_minor": 5
}
